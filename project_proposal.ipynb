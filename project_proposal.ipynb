{
 "cells": [
  {
   "cell_type": "code",
   "execution_count": 2,
   "metadata": {},
   "outputs": [],
   "source": [
    "%matplotlib inline\n",
    "import numpy\n",
    "import matplotlib.pyplot as plt\n",
    "import pandas as pd"
   ]
  },
  {
   "cell_type": "markdown",
   "metadata": {
    "deletable": false,
    "editable": false,
    "nbgrader": {
     "cell_type": "markdown",
     "checksum": "9f827ee9648f98c50760d3fb939f92a7",
     "grade": false,
     "grade_id": "cell-c4123d20c3a14019",
     "locked": true,
     "schema_version": 3,
     "solution": false,
     "task": false
    }
   },
   "source": [
    "# Proposal for  the Final Project\n",
    "\n",
    "This notebook is primarily to get you started thinking about what you would like to do for a project and as input for mini-conferences that we can have to help you refine the scope and deliverables for the project.\n",
    "\n",
    "It will be worth **10 points** if it is completed (there are no wrong answers here except for no answers).  \n",
    "\n",
    "----------------------------\n",
    "\n",
    "#### Some background on the project\n",
    "\n",
    "The purpose of the project is 2-fold\n",
    "\n",
    "* To give you an opportunity to work on a problem you are truly interested in (as this is the best way to actually learn something)\n",
    "* To demonstrate to me that you understand the overall workflow of problem solving from problem selection to implementation to discussion \n",
    "\n",
    "You can choose any subject area that interests you as long as there is a computational component to it.  However, please do not reuse projects or homeworks you have done in other classes.  This should be **your** original work.\n",
    "\n",
    "\n",
    "\n"
   ]
  },
  {
   "cell_type": "markdown",
   "metadata": {
    "deletable": false,
    "editable": false,
    "nbgrader": {
     "cell_type": "markdown",
     "checksum": "eed56ea80bcbe9eb5a66f7cabfe5e516",
     "grade": false,
     "grade_id": "cell-318b53f4ed873060",
     "locked": true,
     "schema_version": 3,
     "solution": false,
     "task": false
    }
   },
   "source": [
    "## Instructions\n",
    "\n",
    "With a few paragraphs (max),  propose a problem that you would like to work on for the independent class project. \n",
    "\n",
    "Your proposal should include the following:\n",
    "\n",
    "* A brief statement of the general problem (e.g. Solve an ODE model for pandemics, explore/reproduce an algorithm you saw in a class or paper)\n",
    "* A brief statement of why the problem is important (to you or to a larger audience, or both)\n",
    "* A brief statement of the computational tools you expect to use or want to explore.\n",
    "* A brief statement of what you hope to gain from the project\n",
    "\n",
    "**Notes/Comments:**\n",
    "\n",
    "* you are not limited to methods we talked about in class (e.g. you could explore spectral methods, ML algorithms etc)\n",
    "* Some good approaches for picking a problem include\n",
    "  * There is a classic paper on some problem that you would like to learn by reproducing some of their results\n",
    "  * You are currently engaged in research, and there is some relevant technique/problem you would like to explore\n",
    "  * There is a subject we covered that you want to explore in more depth.\n",
    "  \n",
    "Again...I am relatively agnostic to problem choice as long as it's computational in nature and of interest to you.  Write down your best thoughts and we can iterate.  \n",
    "\n",
    "    \n"
   ]
  },
  {
   "cell_type": "markdown",
   "metadata": {
    "deletable": false,
    "nbgrader": {
     "cell_type": "markdown",
     "checksum": "0491145dac927b85233f047f4495779a",
     "grade": true,
     "grade_id": "cell-f3a6a5fa3a14f053",
     "locked": false,
     "points": 10,
     "schema_version": 3,
     "solution": true,
     "task": false
    }
   },
   "source": [
    "## Title: Exploring Machine Learning Approaches in Algorithmic Trading Strategies\n",
    "\n",
    "### Problem Statement:\n",
    "\n",
    "This project aims to delve into algorithmic trading strategies utilizing machine learning (ML) techniques. Algorithmic trading has gained significant traction in financial markets, employing ML methods to make informed trading decisions based on historical data, market trends, and relevant factors.\n",
    "\n",
    "### Importance:\n",
    "\n",
    "This project holds significance both on a personal level and for a broader audience. Personally, both Costanza and I are intrigued by the application of ML in various domains. I find this project particularly engaging as it merges my interests in finance and ML into potentially impactful work. From a broader perspective, algorithmic trading's influence on market dynamics and investment strategies is substantial. Hence, understanding and developing effective algorithmic trading strategies are crucial for investors, financial institutions, and researchers.\n",
    "\n",
    "### Computational Tools:\n",
    "\n",
    "Our project involves leveraging various computational tools, particularly Python along with libraries like NumPy, Pandas, and scikit-learn for data analysis and ML model development. Additionally, we intend to explore advanced ML techniques using deep learning frameworks such as PyTorch. Financial data APIs and platforms will also be utilized for accessing historical market data.\n",
    "\n",
    "We plan to pursue two primary objectives. Firstly, we aim to explore various kernel methods encompassing kernel ridge regression and Support Vector Machines to optimize individual investor stock portfolios. Secondly, we aim to implement time-series optimization schemes within our kernels to enhance predictive capabilities using historical market data.\n",
    "\n",
    "### Expected Gains:\n",
    "\n",
    "Through this project, we anticipate gaining a deeper understanding of algorithmic trading strategies and the practical application of ML in finance. Our specific objectives include:\n",
    "\n",
    "- Exploring diverse ML algorithms and techniques suitable for predicting financial markets.\n",
    "- Implementing and evaluating trading strategies based on ML models.\n",
    "- Analyzing strategy performance using historical market data.\n",
    "- Gaining insights into the challenges and limitations of algorithmic trading in real-world scenarios.\n",
    "\n",
    "By achieving these goals, we aim to enhance our knowledge and skills in quantitative finance and ML, which can prove valuable for academic pursuits and potential career opportunities down the line.\n",
    "\n",
    "### Team Breakdown:\n",
    "\n",
    "I will oversee the financial aspects of the project, including data acquisition and developing appropriate objective functions and financial schemas for model evaluation.\n",
    "\n",
    "Costanza will focus on the ML component, involving statistical techniques for data preprocessing, model development, and implementation. I will assist her in the ML component as well. We will jointly conduct statistical analysis to interpret results effectively, leveraging our combined expertise.\n",
    "\n",
    "Both Costanza and I will collaborate on researching suitable kernels for the project and share responsibilities in development efforts.\n"
   ]
  }
 ],
 "metadata": {
  "kernelspec": {
   "display_name": "Python 3",
   "language": "python",
   "name": "python3"
  },
  "language_info": {
   "codemirror_mode": {
    "name": "ipython",
    "version": 3
   },
   "file_extension": ".py",
   "mimetype": "text/x-python",
   "name": "python",
   "nbconvert_exporter": "python",
   "pygments_lexer": "ipython3",
   "version": "3.8.2"
  },
  "latex_envs": {
   "bibliofile": "biblio.bib",
   "cite_by": "apalike",
   "current_citInitial": 1,
   "eqLabelWithNumbers": true,
   "eqNumInitial": 0
  }
 },
 "nbformat": 4,
 "nbformat_minor": 4
}
