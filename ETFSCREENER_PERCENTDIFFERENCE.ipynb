version https://git-lfs.github.com/spec/v1
oid sha256:581f28babd41734d13e3333aedf5e6779db2bc5042df39b7138a57aa050d0427
size 6498108
