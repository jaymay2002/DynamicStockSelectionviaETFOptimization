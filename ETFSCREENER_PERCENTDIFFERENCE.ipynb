version https://git-lfs.github.com/spec/v1
oid sha256:488dd070bc48c1155555d29b611745c962f2aeaa62811abe2fca7dde785bcd74
size 9389531
