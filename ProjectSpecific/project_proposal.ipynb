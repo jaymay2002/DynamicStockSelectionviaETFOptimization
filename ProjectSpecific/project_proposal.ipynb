version https://git-lfs.github.com/spec/v1
oid sha256:1410bfbb495d78176abb4b760ee58f4cad25c55920577f3d62fd2d4972c12283
size 8356
