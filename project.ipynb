version https://git-lfs.github.com/spec/v1
oid sha256:b7a91659f30afff84390a177f8bb62d28cabf1c1094c7e78c1ce5c51b599fec1
size 717455
