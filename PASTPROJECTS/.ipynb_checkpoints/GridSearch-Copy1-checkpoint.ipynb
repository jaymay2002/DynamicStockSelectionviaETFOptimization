version https://git-lfs.github.com/spec/v1
oid sha256:7778617aaf72cc640138a831d000d99422c2bdd833283eebdbed8b11a1edc8d5
size 8250032
