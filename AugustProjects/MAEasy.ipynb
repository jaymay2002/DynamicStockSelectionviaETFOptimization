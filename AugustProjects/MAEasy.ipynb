version https://git-lfs.github.com/spec/v1
oid sha256:eda223341c4af1e667909ad5fc17aa799a12e736fea66ec0a6cb236680fc6147
size 1056667
