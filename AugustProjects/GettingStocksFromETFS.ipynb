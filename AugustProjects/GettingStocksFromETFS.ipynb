version https://git-lfs.github.com/spec/v1
oid sha256:96fb7ea88c27dfa7c53551170301023ccb2211b26c8e3d11a6de26c4a97c79a1
size 11741
