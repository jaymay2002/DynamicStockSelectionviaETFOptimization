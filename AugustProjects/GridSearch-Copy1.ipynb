version https://git-lfs.github.com/spec/v1
oid sha256:f1d4c99afeb8043b460ef1fc3e66aad5fd45e47e2db9f0f9eeb81a907f210f2d
size 7893429
