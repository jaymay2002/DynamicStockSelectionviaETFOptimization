version https://git-lfs.github.com/spec/v1
oid sha256:c6a7d1acece81607344cff60ce63fa3593c7298119b4dfef04dfc8c3b0f48acd
size 4157925
