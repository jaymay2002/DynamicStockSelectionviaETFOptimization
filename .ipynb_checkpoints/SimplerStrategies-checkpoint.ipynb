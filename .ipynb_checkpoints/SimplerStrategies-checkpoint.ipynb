version https://git-lfs.github.com/spec/v1
oid sha256:af690802ead699b474ae3bf0d885d3712ae22e974384f9d82de71456ae0b1e41
size 2878737
