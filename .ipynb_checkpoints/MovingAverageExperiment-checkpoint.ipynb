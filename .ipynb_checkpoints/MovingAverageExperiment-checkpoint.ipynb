version https://git-lfs.github.com/spec/v1
oid sha256:13cfa6b235e4252fba959acd9dcfdad6a853c050c94dee5d3650ab0e7f872a7f
size 2687645
